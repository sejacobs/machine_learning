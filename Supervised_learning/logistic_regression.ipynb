{
 "cells": [
  {
   "cell_type": "code",
   "execution_count": 1,
   "metadata": {
    "collapsed": false
   },
   "outputs": [
    {
     "name": "stdout",
     "output_type": "stream",
     "text": [
      "1.0\n"
     ]
    }
   ],
   "source": [
    "import numpy as np\n",
    "from sklearn import metrics\n",
    "from sklearn import datasets\n",
    "from sklearn.linear_model import LogisticRegression\n",
    "from sklearn.cross_validation import train_test_split\n",
    "from ggplot import *\n",
    "import pandas as pd\n",
    "import inspect\n",
    "\n",
    "#Load the iris dataset into a pandas dataframe, \n",
    "#Note:  I am only using this dataset to illustrate what the fit-predict process looks like\n",
    "\n",
    "iris = datasets.load_iris()\n",
    "\n",
    "#inspect iris\n",
    "inspect.getmembers(iris)\n",
    "\n",
    "#put features data into a dataframe\n",
    "df = pd.DataFrame(iris.data)\n",
    "\n",
    "#grab the labels and apply to the columns\n",
    "df.columns = iris.feature_names\n",
    "\n",
    "#include the target data\n",
    "df['target'] = iris.target\n",
    "\n",
    "#subset the data so that there are only two target values (binary options of 0 and 1 only).\n",
    "df = df[df.target != 2]\n",
    "\n",
    "\n",
    "#split data into train and test\n",
    "y = df['target']\n",
    "X = df[['sepal length (cm)', 'sepal width (cm)', 'petal length (cm)', 'petal width (cm)']]\n",
    "\n",
    "X_train, X_test, y_train, y_test = train_test_split(X, y, test_size=0.3, random_state=1)\n",
    "\n",
    "\n",
    "\n",
    "#fit a logistic regression model\n",
    "\n",
    "model = LogisticRegression()\n",
    "\n",
    "model = model.fit(X_train.as_matrix(), y_train.as_matrix())\n",
    "\n",
    "\n",
    "# make predictions\n",
    "\n",
    "predicted = model.predict(X_test.as_matrix())\n",
    "\n",
    "#Plot the ROC curve and compute the AUC, see http://blog.yhat.com/posts/roc-curves.html for reference\n",
    "\n",
    "#TPR=TruePositives/(TruePositives+FalseNegatives)\n",
    "\n",
    "#FPR=FalsePositives/(FalsePositives+TrueNegatives)\n",
    "\n",
    "preds = model.predict_proba(X_test.as_matrix())[:,1]\n",
    "fpr, tpr, _ = metrics.roc_curve(y_test.as_matrix(), preds)\n",
    "\n",
    "\n",
    "df = pd.DataFrame(dict(fpr=fpr, tpr=tpr))\n",
    "ggplot(df, aes(x='fpr', y='tpr')) +\\\n",
    "    geom_line() +\\\n",
    "    geom_abline(linetype='dashed')\n",
    "    \n",
    "auc = metrics.auc(fpr,tpr)\n",
    "ggplot(df, aes(x='fpr', ymin=0, ymax='tpr')) +\\\n",
    "    geom_area(alpha=0.2) +\\\n",
    "    geom_line(aes(y='tpr')) +\\\n",
    "    ggtitle(\"ROC Curve w/ AUC=%s\" % str(auc))\n",
    "    \n",
    "print auc"
   ]
  },
  {
   "cell_type": "code",
   "execution_count": null,
   "metadata": {
    "collapsed": true
   },
   "outputs": [],
   "source": []
  }
 ],
 "metadata": {
  "kernelspec": {
   "display_name": "Python 2",
   "language": "python",
   "name": "python2"
  },
  "language_info": {
   "codemirror_mode": {
    "name": "ipython",
    "version": 2
   },
   "file_extension": ".py",
   "mimetype": "text/x-python",
   "name": "python",
   "nbconvert_exporter": "python",
   "pygments_lexer": "ipython2",
   "version": "2.7.10"
  }
 },
 "nbformat": 4,
 "nbformat_minor": 0
}
